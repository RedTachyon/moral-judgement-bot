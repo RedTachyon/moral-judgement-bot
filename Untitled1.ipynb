{
 "cells": [
  {
   "cell_type": "code",
   "execution_count": 166,
   "metadata": {},
   "outputs": [],
   "source": [
    "import numpy as np\n",
    "import praw\n",
    "from psaw import PushshiftAPI\n",
    "import datetime as dt\n",
    "import requests\n",
    "import json\n",
    "from tqdm import tqdm\n",
    "import matplotlib.pyplot as plt\n",
    "import seaborn as sns\n",
    "\n",
    "sns.set()"
   ]
  },
  {
   "cell_type": "markdown",
   "metadata": {},
   "source": [
    "TODO list:\n",
    "\n",
    "1. Get all flaired submissions in a week\n",
    "2. Check for duplicates (once)\n",
    "3. Parse the response, get id, use PRAW to get post info\n",
    "4. Filter by flair\n",
    "5. Run over various weeks, combine"
   ]
  },
  {
   "cell_type": "code",
   "execution_count": 48,
   "metadata": {},
   "outputs": [],
   "source": [
    "def get_attributes(post_list, attr_name):\n",
    "    return list(map(lambda x: getattr(x, attr_name), post_list))"
   ]
  },
  {
   "cell_type": "code",
   "execution_count": 116,
   "metadata": {},
   "outputs": [],
   "source": [
    "reddit = praw.Reddit(client_id='TiogCJcLNTKaXQ', \n",
    "                     client_secret='vtroPTNpBpqh2Qze5umXTlpmh7A', \n",
    "                     username='Moral_Judgement_Bot', \n",
    "                     password='A not very secure password.',\n",
    "                     user_agent='AITA bot test script')\n",
    "\n",
    "api = PushshiftAPI(r=reddit)\n",
    "\n",
    "# posts = api.search_submissions(after=start_epoch,\n",
    "#                                before=end_epoch,\n",
    "#                                subreddit='AmITheAsshole',\n",
    "#                                limit=10000,\n",
    "# #                                link_flair_text='Asshole',\n",
    "#                                sort='desc',\n",
    "#                                sort_type='score',)\n",
    "# posts = list(posts)"
   ]
  },
  {
   "cell_type": "code",
   "execution_count": 174,
   "metadata": {},
   "outputs": [],
   "source": [
    "start_epoch = int(dt.datetime(2018, 9, 1).timestamp())\n",
    "end_epoch = int(dt.datetime(2018, 10, 1).timestamp())"
   ]
  },
  {
   "cell_type": "code",
   "execution_count": 178,
   "metadata": {},
   "outputs": [],
   "source": [
    "scores = get_attributes(posts, 'score')"
   ]
  },
  {
   "cell_type": "code",
   "execution_count": 181,
   "metadata": {},
   "outputs": [],
   "source": [
    "ids = np.array(get_attributes(posts, 'id'))"
   ]
  },
  {
   "cell_type": "code",
   "execution_count": 182,
   "metadata": {},
   "outputs": [
    {
     "data": {
      "text/plain": [
       "(649,)"
      ]
     },
     "execution_count": 182,
     "metadata": {},
     "output_type": "execute_result"
    }
   ],
   "source": [
    "np.unique(ids).shape"
   ]
  },
  {
   "cell_type": "code",
   "execution_count": 183,
   "metadata": {},
   "outputs": [
    {
     "data": {
      "text/plain": [
       "(1465,)"
      ]
     },
     "execution_count": 183,
     "metadata": {},
     "output_type": "execute_result"
    }
   ],
   "source": [
    "ids.shape"
   ]
  },
  {
   "cell_type": "code",
   "execution_count": 132,
   "metadata": {},
   "outputs": [
    {
     "data": {
      "text/plain": [
       "['Update',\n",
       " 'UPDATE',\n",
       " 'META',\n",
       " 'No A-holes here',\n",
       " 'Everyone Sucks',\n",
       " 'Quality Shitpost',\n",
       " 'Not the A-hole',\n",
       " 'Not the A-hole',\n",
       " 'META',\n",
       " 'Not the A-hole']"
      ]
     },
     "execution_count": 132,
     "metadata": {},
     "output_type": "execute_result"
    }
   ],
   "source": [
    "get_attributes(posts, 'link_flair_text')"
   ]
  },
  {
   "cell_type": "code",
   "execution_count": 188,
   "metadata": {},
   "outputs": [],
   "source": [
    "url = 'https://api.pushshift.io/reddit/submission/search'\n",
    "req = requests.get(url, \n",
    "            params = {\n",
    "                \"subreddit\": \"AmITheAsshole\",\n",
    "                \"sort\": \"desc\",\n",
    "                \"sort_type\": \"score\",\n",
    "                \"after\": start_epoch,\n",
    "                \"before\": end_epoch,\n",
    "                \"limit\": 10000\n",
    "            })\n",
    "res = json.loads(req.content)"
   ]
  },
  {
   "cell_type": "code",
   "execution_count": 195,
   "metadata": {},
   "outputs": [],
   "source": [
    "post = praw.models.Submission(reddit, id='9ir8wk')"
   ]
  },
  {
   "cell_type": "code",
   "execution_count": 197,
   "metadata": {},
   "outputs": [
    {
     "data": {
      "text/plain": [
       "'asshole'"
      ]
     },
     "execution_count": 197,
     "metadata": {},
     "output_type": "execute_result"
    }
   ],
   "source": [
    "post.link_flair_text"
   ]
  },
  {
   "cell_type": "code",
   "execution_count": 193,
   "metadata": {},
   "outputs": [
    {
     "data": {
      "text/plain": [
       "{'author': 'popcycledude',\n",
       " 'author_flair_css_class': None,\n",
       " 'author_flair_richtext': [],\n",
       " 'author_flair_text': None,\n",
       " 'author_flair_type': 'text',\n",
       " 'author_fullname': 't2_eansuys',\n",
       " 'can_mod_post': False,\n",
       " 'contest_mode': False,\n",
       " 'created_utc': 1537874291,\n",
       " 'domain': 'self.AmItheAsshole',\n",
       " 'full_link': 'https://www.reddit.com/r/AmItheAsshole/comments/9ir8wk/wibta_if_i_post_pictures_of_this_girl_that_went/',\n",
       " 'gilded': 0,\n",
       " 'gildings': {'gid_1': 0, 'gid_2': 0, 'gid_3': 0},\n",
       " 'id': '9ir8wk',\n",
       " 'is_crosspostable': True,\n",
       " 'is_meta': False,\n",
       " 'is_original_content': False,\n",
       " 'is_reddit_media_domain': False,\n",
       " 'is_self': True,\n",
       " 'is_video': False,\n",
       " 'link_flair_background_color': '',\n",
       " 'link_flair_richtext': [],\n",
       " 'link_flair_text_color': 'dark',\n",
       " 'link_flair_type': 'text',\n",
       " 'locked': False,\n",
       " 'media_only': False,\n",
       " 'no_follow': True,\n",
       " 'num_comments': 435,\n",
       " 'num_crossposts': 1,\n",
       " 'over_18': False,\n",
       " 'parent_whitelist_status': 'house_only',\n",
       " 'permalink': '/r/AmItheAsshole/comments/9ir8wk/wibta_if_i_post_pictures_of_this_girl_that_went/',\n",
       " 'pinned': False,\n",
       " 'pwls': 1,\n",
       " 'retrieved_on': 1537874292,\n",
       " 'score': 2982,\n",
       " 'selftext': \"A little context i run this Tumblr account where i post pictures of hot women in high heels. And this girl that went to my school a few years ago (she graduated from there like 2 years ago while i graduated a few months ago) this girl is super hot and has a picture where she is wesring these black high heel boots that would be prefect for my Tumblr account. We're facebook friends but she doesn't know me so WIBTA for doing it\",\n",
       " 'send_replies': True,\n",
       " 'spoiler': False,\n",
       " 'stickied': False,\n",
       " 'subreddit': 'AmItheAsshole',\n",
       " 'subreddit_id': 't5_2xhvq',\n",
       " 'subreddit_subscribers': 96382,\n",
       " 'subreddit_type': 'public',\n",
       " 'thumbnail': 'self',\n",
       " 'title': 'WIBTA if I post pictures of this girl that went to my school on Tumblr.',\n",
       " 'url': 'https://www.reddit.com/r/AmItheAsshole/comments/9ir8wk/wibta_if_i_post_pictures_of_this_girl_that_went/',\n",
       " 'whitelist_status': 'house_only',\n",
       " 'wls': 1}"
      ]
     },
     "execution_count": 193,
     "metadata": {},
     "output_type": "execute_result"
    }
   ],
   "source": [
    "res['data'][1]"
   ]
  }
 ],
 "metadata": {
  "kernelspec": {
   "display_name": "Python 3",
   "language": "python",
   "name": "python3"
  },
  "language_info": {
   "codemirror_mode": {
    "name": "ipython",
    "version": 3
   },
   "file_extension": ".py",
   "mimetype": "text/x-python",
   "name": "python",
   "nbconvert_exporter": "python",
   "pygments_lexer": "ipython3",
   "version": "3.7.4"
  }
 },
 "nbformat": 4,
 "nbformat_minor": 4
}
