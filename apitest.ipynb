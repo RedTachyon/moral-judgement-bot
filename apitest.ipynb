{
 "cells": [
  {
   "cell_type": "code",
   "execution_count": 1,
   "metadata": {},
   "outputs": [],
   "source": [
    "from itertools import zip_longest\n",
    "from math import ceil\n",
    "import datetime as dt\n",
    "import requests\n",
    "import json\n",
    "\n",
    "from typing import Optional, List, Dict, Iterable, Tuple\n",
    "from pandas.core.frame import DataFrame\n",
    "\n",
    "import numpy as np\n",
    "import praw\n",
    "from psaw import PushshiftAPI\n",
    "from tqdm import tqdm\n",
    "import matplotlib.pyplot as plt\n",
    "import seaborn as sns\n",
    "\n",
    "import pandas as pd\n",
    "\n",
    "sns.set()"
   ]
  },
  {
   "cell_type": "markdown",
   "metadata": {},
   "source": [
    "TODO list:\n",
    "\n",
    "1. Get all flaired submissions in a week\n",
    "2. Check for duplicates (once)\n",
    "3. Parse the response, get id, use PRAW to get post info\n",
    "4. Filter by flair\n",
    "5. Run over various weeks, combine"
   ]
  },
  {
   "cell_type": "code",
   "execution_count": 2,
   "metadata": {},
   "outputs": [],
   "source": [
    "def chunker(seq: Iterable, size: int) -> Iterable:\n",
    "    return (seq[pos:pos + size] for pos in range(0, len(seq), size))"
   ]
  },
  {
   "cell_type": "code",
   "execution_count": 3,
   "metadata": {},
   "outputs": [],
   "source": [
    "# reddit = praw.Reddit(client_id='TiogCJcLNTKaXQ', \n",
    "#                      client_secret='vtroPTNpBpqh2Qze5umXTlpmh7A', \n",
    "#                      username='Moral_Judgement_Bot', \n",
    "#                      password='A not very secure password.',\n",
    "#                      user_agent='AITA bot test script')\n",
    "\n",
    "# api = PushshiftAPI(r=reddit)"
   ]
  },
  {
   "cell_type": "code",
   "execution_count": 4,
   "metadata": {},
   "outputs": [],
   "source": [
    "def get_posts_between(start: int, end: int, field_names: Optional[List[str]] = None) -> pd.DataFrame:\n",
    "    if field_names is None:\n",
    "        field_names = ['id']#, 'title', 'selftext', 'score', 'author']\n",
    "\n",
    "    # TODO: can be optimized by avoiding pandas\n",
    "    api_url = 'https://api.pushshift.io/reddit/submission/search'\n",
    "\n",
    "    req = requests.get(api_url, \n",
    "            params = {\n",
    "                \"subreddit\": \"AmITheAsshole\",\n",
    "                \"sort\": \"desc\",\n",
    "                \"sort_type\": \"score\",\n",
    "                \"after\": start,\n",
    "                \"before\": end,\n",
    "                \"limit\": 10000\n",
    "            })\n",
    "    \n",
    "    res = json.loads(req.content)\n",
    "    \n",
    "    filtered = filter(\n",
    "            lambda x: all(name in x.keys() for name in field_names),\n",
    "            res['data']\n",
    "            )\n",
    "\n",
    "    data = list(map(\n",
    "                lambda x: tuple(x[field] for field in field_names), \n",
    "                filtered\n",
    "                ))\n",
    "    \n",
    "    df = pd.DataFrame(data, columns=field_names)\n",
    "    df['name'] = 't3_' + df['id']\n",
    "    \n",
    "    return df"
   ]
  },
  {
   "cell_type": "code",
   "execution_count": 5,
   "metadata": {},
   "outputs": [],
   "source": [
    "def request_info(names: List[str], useragent: str = 'MoralJudgementIncoming') -> List[Dict]:\n",
    "    all_names = ','.join(names)\n",
    "    \n",
    "    res = requests.get('https://www.reddit.com/api/info.json',\n",
    "            params={'id': all_names},\n",
    "            headers={'User-agent': useragent})\n",
    "    \n",
    "    posts_info = json.loads(res.content)['data']['children']\n",
    "    \n",
    "#     print(len(posts_info), len(names))\n",
    "    assert len(posts_info) == len(names), ValueError(\"Didn't get all posts' info\")\n",
    "    \n",
    "    return posts_info"
   ]
  },
  {
   "cell_type": "code",
   "execution_count": 6,
   "metadata": {},
   "outputs": [],
   "source": [
    "def get_details(names: Iterable[str]) -> pd.DataFrame:\n",
    "    \n",
    "    # TODO: add error handling if a chunk fails\n",
    "    chunk_size = 100\n",
    "    \n",
    "    name_chunks = chunker(names, chunk_size)\n",
    "\n",
    "    all_info = []\n",
    "    \n",
    "    chunk_count = ceil(len(names) / chunk_size)\n",
    "\n",
    "    for chunk in tqdm(name_chunks, total=chunk_count):\n",
    "        info = request_info(chunk)\n",
    "\n",
    "        all_info.extend(info)\n",
    "\n",
    "\n",
    "    field_names = ['id', 'title', 'created', 'selftext', 'score', 'edited', 'link_flair_text']\n",
    "\n",
    "    data = list(map(\n",
    "                lambda x: (x['data'][field] for field in field_names), \n",
    "                all_info\n",
    "                ))\n",
    "\n",
    "    df_new = pd.DataFrame(data, columns=field_names)\n",
    "    df_new = df_new.fillna('')\n",
    "    df_new = df_new.set_index('id')\n",
    "    \n",
    "    return df_new"
   ]
  },
  {
   "cell_type": "code",
   "execution_count": 7,
   "metadata": {},
   "outputs": [],
   "source": [
    "def iterate_days(start: Tuple[int], end: Tuple[int], diff: int = 24, finer_start: Optional[Tuple[int]] = None) -> Tuple[dt.datetime, dt.datetime]:\n",
    "    \"\"\"\n",
    "    \n",
    "    Args:\n",
    "        start: (year, month, day), start date\n",
    "        end: (year, month, day), end date\n",
    "        diff: number of hours to iterate over\n",
    "        finer_start: (year, month, day), optional time to reduce the diff by half, for better granularity\n",
    "    \"\"\" # TODO: somehow make it possible to change timedelta maybe\n",
    "    start_dt = dt.datetime(*start)\n",
    "    end_dt = dt.datetime(*end)\n",
    "    \n",
    "    assert start_dt < end_dt, ValueError(\"Start date should be before end date\")\n",
    "    \n",
    "    current_dt = dt.datetime(*start)\n",
    "    \n",
    "    \n",
    "    if finer_start is None:\n",
    "        finer = True\n",
    "        finer_dt = None\n",
    "    else:\n",
    "        finer = False\n",
    "        finer_dt = dt.datetime(*finer_start)\n",
    "    \n",
    "    while current_dt != end_dt:\n",
    "        start = current_dt\n",
    "        end = current_dt + dt.timedelta(hours=diff)\n",
    "        \n",
    "        # If we're not in fine mode yet, and we passed a certain date, decrease the diff\n",
    "\n",
    "        if not finer and current_dt >= finer_dt:\n",
    "            finer = True\n",
    "            diff = diff // 2\n",
    "        \n",
    "        current_dt = end\n",
    "        yield int(start.timestamp()), int(end.timestamp())"
   ]
  },
  {
   "cell_type": "code",
   "execution_count": 8,
   "metadata": {},
   "outputs": [],
   "source": [
    "def get_all_data(start: Tuple[int], \n",
    "                 end: Tuple[int], \n",
    "                 diff: int = 24, \n",
    "                 finer_start: Optional[Tuple[int]] = None,\n",
    "                 save_names: Optional[str] = None, \n",
    "                 save_data: Optional[str] = None) -> pd.DataFrame:\n",
    "    \n",
    "    days = iterate_days(start, end, diff, finer_start)\n",
    "\n",
    "    df_list = []\n",
    "\n",
    "    num_days = (dt.datetime(*end) - dt.datetime(*start)).days\n",
    "    \n",
    "    if finer_start is not None:\n",
    "        num_days += (dt.datetime(*end) - dt.datetime(*finer_start)).days\n",
    "\n",
    "    print(\"Downloading post names from pushshift API\")\n",
    "    \n",
    "    for start, end in tqdm(days, total=num_days):\n",
    "        df_part = get_posts_between(start=start, end=end)\n",
    "        df_list.append(df_part)\n",
    "\n",
    "#     plt.plot(list(map(lambda x: x.name.shape[0], df_list)))\n",
    "\n",
    "    all_names = np.concatenate(list(map(lambda df: df.name.values, df_list)))\n",
    "\n",
    "    if save_names is not None:\n",
    "        with open(save_names, 'w') as f:\n",
    "            for name in all_names:\n",
    "                f.write(name)\n",
    "\n",
    "    print(\"Downloading post details from reddit API\")\n",
    "    \n",
    "    df_full = get_details(all_names)\n",
    "\n",
    "    if save_data is not None:\n",
    "        df_full.to_csv(save_data)\n",
    "        \n",
    "    return df_full"
   ]
  },
  {
   "cell_type": "code",
   "execution_count": 9,
   "metadata": {},
   "outputs": [
    {
     "name": "stderr",
     "output_type": "stream",
     "text": [
      "  0%|          | 0/464 [00:00<?, ?it/s]"
     ]
    },
    {
     "name": "stdout",
     "output_type": "stream",
     "text": [
      "Downloading post names from pushshift API\n"
     ]
    },
    {
     "name": "stderr",
     "output_type": "stream",
     "text": [
      "100%|█████████▉| 463/464 [13:05<00:01,  1.70s/it]\n",
      "  0%|          | 0/2082 [00:00<?, ?it/s]"
     ]
    },
    {
     "name": "stdout",
     "output_type": "stream",
     "text": [
      "Downloading post details from reddit API\n"
     ]
    },
    {
     "name": "stderr",
     "output_type": "stream",
     "text": [
      "100%|██████████| 2082/2082 [43:55<00:00,  1.27s/it]\n"
     ]
    }
   ],
   "source": [
    "df_full = get_all_data(start = (2018, 9, 1),\n",
    "                       end = (2019, 8, 20), \n",
    "                       diff = 24,\n",
    "                       finer_start = (2019, 5, 1), \n",
    "                       save_names = 'new_names.txt',\n",
    "                       save_data = 'new_data.csv'\n",
    "                      )"
   ]
  },
  {
   "cell_type": "code",
   "execution_count": 8,
   "metadata": {},
   "outputs": [],
   "source": [
    "# df_full = pd.read_csv('all_data.csv')"
   ]
  },
  {
   "cell_type": "code",
   "execution_count": 12,
   "metadata": {},
   "outputs": [],
   "source": [
    "df_filtered = df_full[~df_full['selftext'].isin(['[removed]', '[deleted]'])]"
   ]
  },
  {
   "cell_type": "code",
   "execution_count": 14,
   "metadata": {},
   "outputs": [
    {
     "data": {
      "text/plain": [
       "(83840, 6)"
      ]
     },
     "execution_count": 14,
     "metadata": {},
     "output_type": "execute_result"
    }
   ],
   "source": [
    "df_filtered.shape"
   ]
  },
  {
   "cell_type": "code",
   "execution_count": 32,
   "metadata": {},
   "outputs": [],
   "source": [
    "lengths = list(map(lambda x: len(x), df_filtered.selftext))"
   ]
  },
  {
   "cell_type": "code",
   "execution_count": null,
   "metadata": {},
   "outputs": [],
   "source": [
    "df_filtered.apply()"
   ]
  },
  {
   "cell_type": "code",
   "execution_count": 25,
   "metadata": {},
   "outputs": [
    {
     "data": {
      "text/plain": [
       "(0, 5000)"
      ]
     },
     "execution_count": 25,
     "metadata": {},
     "output_type": "execute_result"
    },
    {
     "data": {
      "image/png": "[encoded data removed]",
      "text/plain": [
       "<Figure size 432x288 with 1 Axes>"
      ]
     },
     "metadata": {
      "needs_background": "light"
     },
     "output_type": "display_data"
    }
   ],
   "source": [
    "plt.hist(list(map(lambda x: len(x), df_filtered.selftext)), bins=500)\n",
    "plt.xlim((0, 5000))"
   ]
  },
  {
   "cell_type": "code",
   "execution_count": 35,
   "metadata": {},
   "outputs": [],
   "source": [
    "counts = df_filtered.groupby('link_flair_text').count()[['title']]"
   ]
  },
  {
   "cell_type": "code",
   "execution_count": 17,
   "metadata": {},
   "outputs": [
    {
     "data": {
      "text/html": [
       "<div>\n",
       "<style scoped>\n",
       "    .dataframe tbody tr th:only-of-type {\n",
       "        vertical-align: middle;\n",
       "    }\n",
       "\n",
       "    .dataframe tbody tr th {\n",
       "        vertical-align: top;\n",
       "    }\n",
       "\n",
       "    .dataframe thead th {\n",
       "        text-align: right;\n",
       "    }\n",
       "</style>\n",
       "<table border=\"1\" class=\"dataframe\">\n",
       "  <thead>\n",
       "    <tr style=\"text-align: right;\">\n",
       "      <th></th>\n",
       "      <th>title</th>\n",
       "    </tr>\n",
       "    <tr>\n",
       "      <th>link_flair_text</th>\n",
       "      <th></th>\n",
       "    </tr>\n",
       "  </thead>\n",
       "  <tbody>\n",
       "    <tr>\n",
       "      <th></th>\n",
       "      <td>409</td>\n",
       "    </tr>\n",
       "    <tr>\n",
       "      <th>Asshole</th>\n",
       "      <td>16956</td>\n",
       "    </tr>\n",
       "    <tr>\n",
       "      <th>Everyone Sucks</th>\n",
       "      <td>5378</td>\n",
       "    </tr>\n",
       "    <tr>\n",
       "      <th>No A-holes here</th>\n",
       "      <td>10994</td>\n",
       "    </tr>\n",
       "    <tr>\n",
       "      <th>Not enough info</th>\n",
       "      <td>2243</td>\n",
       "    </tr>\n",
       "    <tr>\n",
       "      <th>Not the A-hole</th>\n",
       "      <td>46133</td>\n",
       "    </tr>\n",
       "    <tr>\n",
       "      <th>Shitpost</th>\n",
       "      <td>228</td>\n",
       "    </tr>\n",
       "    <tr>\n",
       "      <th>TL;DR</th>\n",
       "      <td>181</td>\n",
       "    </tr>\n",
       "    <tr>\n",
       "      <th>asshole</th>\n",
       "      <td>204</td>\n",
       "    </tr>\n",
       "    <tr>\n",
       "      <th>not the a-hole</th>\n",
       "      <td>622</td>\n",
       "    </tr>\n",
       "  </tbody>\n",
       "</table>\n",
       "</div>"
      ],
      "text/plain": [
       "                 title\n",
       "link_flair_text       \n",
       "                   409\n",
       "Asshole          16956\n",
       "Everyone Sucks    5378\n",
       "No A-holes here  10994\n",
       "Not enough info   2243\n",
       "Not the A-hole   46133\n",
       "Shitpost           228\n",
       "TL;DR              181\n",
       "asshole            204\n",
       "not the a-hole     622"
      ]
     },
     "execution_count": 17,
     "metadata": {},
     "output_type": "execute_result"
    }
   ],
   "source": [
    "counts[counts > 100].dropna().astype(int)"
   ]
  },
  {
   "cell_type": "code",
   "execution_count": 46,
   "metadata": {},
   "outputs": [],
   "source": [
    "df_labels = df_filtered[df_filtered['link_flair_text'].isin(['Asshole', 'Everyone Sucks', 'Not the A-hole', 'No A-holes here'])]"
   ]
  }
 ],
 "metadata": {
  "kernelspec": {
   "display_name": "AssholeBot",
   "language": "python",
   "name": "aita"
  },
  "language_info": {
   "codemirror_mode": {
    "name": "ipython",
    "version": 3
   },
   "file_extension": ".py",
   "mimetype": "text/x-python",
   "name": "python",
   "nbconvert_exporter": "python",
   "pygments_lexer": "ipython3",
   "version": "3.7.4"
  }
 },
 "nbformat": 4,
 "nbformat_minor": 4
}
